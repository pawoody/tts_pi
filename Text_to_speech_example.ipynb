{
 "cells": [
  {
   "cell_type": "markdown",
   "metadata": {},
   "source": [
    "## Text-to-speech:\n",
    "<br>\n",
    "\n",
    "I was reading a good book recently at the recommendation of a friend and I didn't want to put it down. At the same time, my head was killing me. I checked the audio version (auto-generated) and it was pretty terrible, so I figured I would play around with creating my own.\n",
    "<br><br>\n",
    "Using this notebook, you can do the same!"
   ]
  },
  {
   "cell_type": "code",
   "execution_count": 23,
   "metadata": {},
   "outputs": [],
   "source": [
    "import pandas as pd\n",
    "import pyttsx3\n",
    "import nltk"
   ]
  },
  {
   "cell_type": "code",
   "execution_count": 24,
   "metadata": {},
   "outputs": [],
   "source": [
    "engine = pyttsx3.init(driverName = 'nsss', debug = False)"
   ]
  },
  {
   "cell_type": "markdown",
   "metadata": {},
   "source": [
    "Load from clipboard using Pandas:\n",
    "\n",
    "text = pd.read_clipboard()\n",
    "\n",
    "- - - - - \n",
    "\n",
    "Signature: pd.read_clipboard(sep='\\\\s+', **kwargs)\n",
    "Docstring:\n",
    "Read text from clipboard and pass to read_csv.\n",
    "\n",
    "__Parameters__\n",
    "sep : str, default '\\s+'\n",
    "    A string or regex delimiter. The default of '\\s+' denotes\n",
    "    one or more whitespace characters.\n",
    "\n",
    "__**kwargs__\n",
    "    See read_csv for the full argument list.\n",
    "\n",
    "__Returns__\n",
    "DataFrame\n",
    "    A parsed DataFrame object."
   ]
  },
  {
   "cell_type": "code",
   "execution_count": 25,
   "metadata": {
    "scrolled": true
   },
   "outputs": [
    {
     "name": "stdout",
     "output_type": "stream",
     "text": [
      "200.0\n",
      "1.0\n"
     ]
    },
    {
     "data": {
      "text/plain": [
       "'Saving Voice to a file'"
      ]
     },
     "execution_count": 25,
     "metadata": {},
     "output_type": "execute_result"
    }
   ],
   "source": [
    "\"\"\" RATE\"\"\"\n",
    "rate = engine.getProperty('rate')   # getting details of current speaking rate\n",
    "print (rate)                        #printing current voice rate\n",
    "engine.setProperty('rate', 180)     # setting up new voice rate\n",
    "\n",
    "\n",
    "\"\"\"VOLUME\"\"\"\n",
    "volume = engine.getProperty('volume')   #getting to know current volume level (min=0 and max=1)\n",
    "print (volume)                          #printing current volume level\n",
    "engine.setProperty('volume',1.0)    # setting up volume level  between 0 and 1\n",
    "\n",
    "\"\"\"VOICE\"\"\"\n",
    "voices = engine.getProperty('voices')       #getting details of current voice\n",
    "#engine.setProperty('voice', voices[0].id)  #changing index, changes voices. o for male\n",
    "engine.setProperty('voice', voices[0].id)   #changing index, changes voices. 1 for female\n",
    "\n",
    "#engine.say(\"Hello World!\")\n",
    "#engine.say('My current speaking rate is ' + str(rate))\n",
    "#engine.runAndWait()\n",
    "#engine.stop()\n",
    "\n",
    "\"\"\"Saving Voice to a file\"\"\"\n",
    "# On linux make sure that 'espeak' and 'ffmpeg' are installed\n",
    "#engine.save_to_file('Hello World', 'test.mp3')\n",
    "#engine.runAndWait()"
   ]
  },
  {
   "cell_type": "code",
   "execution_count": 26,
   "metadata": {},
   "outputs": [],
   "source": [
    "engine = pyttsx3.init(driverName = 'nsss', debug = False)"
   ]
  },
  {
   "cell_type": "markdown",
   "metadata": {},
   "source": [
    "## Example:\n",
    "\n",
    "Replace the text from the cell below with a string.\n",
    "\n",
    "The Road Not Taken \n",
    "BY ROBERT FROST\n",
    "\n",
    "Two roads diverged in a yellow wood,\n",
    "And sorry I could not travel both\n",
    "And be one traveler, long I stood\n",
    "And looked down one as far as I could\n",
    "To where it bent in the undergrowth;\n",
    "\n",
    "Then took the other, as just as fair,\n",
    "And having perhaps the better claim,\n",
    "Because it was grassy and wanted wear;\n",
    "Though as for that the passing there\n",
    "Had worn them really about the same,\n",
    "\n",
    "And both that morning equally lay\n",
    "In leaves no step had trodden black.\n",
    "Oh, I kept the first for another day!\n",
    "Yet knowing how way leads on to way,\n",
    "I doubted if I should ever come back.\n",
    "\n",
    "I shall be telling this with a sigh\n",
    "Somewhere ages and ages hence:\n",
    "Two roads diverged in a wood, and I—\n",
    "I took the one less traveled by,\n",
    "And that has made all the difference."
   ]
  },
  {
   "cell_type": "code",
   "execution_count": 27,
   "metadata": {},
   "outputs": [
    {
     "name": "stdout",
     "output_type": "stream",
     "text": [
      "<module 'pyttsx3.voice' from '/Users/paulwoody/opt/anaconda3/lib/python3.7/site-packages/pyttsx3/voice.py'>\n"
     ]
    }
   ],
   "source": [
    "print(pyttsx3.voice)"
   ]
  },
  {
   "cell_type": "code",
   "execution_count": 40,
   "metadata": {},
   "outputs": [],
   "source": [
    "engine.stop()\n",
    "engine.runAndWait()"
   ]
  },
  {
   "cell_type": "code",
   "execution_count": 41,
   "metadata": {},
   "outputs": [],
   "source": [
    "poem = 'The Road Not Taken BY ROBERT FROST. Two roads diverged in a yellow wood, And sorry I could not travel both And be one traveler, long I stood And looked down one as far as I could To where it bent in the undergrowth;Then took the other, as just as fair, And having perhaps the better claim, Because it was grassy and wanted wear; Though as for that the passing there Had worn them really about the same, And both that morning equally lay In leaves no step had trodden black. Oh, I kept the first for another day! Yet knowing how way leads on to way, I doubted if I should ever come back. I shall be telling this with a sigh Somewhere ages and ages hence: Two roads diverged in a wood, and I— I took the one less traveled by, And that has made all the difference.'"
   ]
  },
  {
   "cell_type": "code",
   "execution_count": 42,
   "metadata": {},
   "outputs": [],
   "source": [
    "engine.say(poem)"
   ]
  },
  {
   "cell_type": "code",
   "execution_count": 55,
   "metadata": {},
   "outputs": [
    {
     "data": {
      "text/plain": [
       "\"'engine = pyttsx3.init(driverName='nsss', debug=True)\\nvoices = engine.getProperty('voices')\\nfor voice in voices:\\n    engine.runAndWait()\\n    engine.setProperty('voice', voices)\\n    engine.say('Test Voice {voice}')\\nengine.stop()\""
      ]
     },
     "execution_count": 55,
     "metadata": {},
     "output_type": "execute_result"
    }
   ],
   "source": [
    "''''engine = pyttsx3.init(driverName='nsss', debug=True)\n",
    "voices = engine.getProperty('voices')\n",
    "for voice in voices:\n",
    "    engine.runAndWait()\n",
    "    engine.setProperty('voice', voices)\n",
    "    engine.say('Test Voice {voice}')\n",
    "engine.stop()'''"
   ]
  },
  {
   "cell_type": "markdown",
   "metadata": {},
   "source": [
    "## Changing voice Properties:"
   ]
  },
  {
   "cell_type": "code",
   "execution_count": 56,
   "metadata": {},
   "outputs": [],
   "source": [
    "# Tell it to use Apple's text-to-speech voice:\n",
    "engine = pyttsx3.init(driverName = 'nsss', debug = False)\n",
    "\n",
    "# Choose voice:\n",
    "voices = engine.getProperty('voices')\n",
    "voice = voices[37].id\n",
    "engine.setProperty('voice', voice)\n",
    "\n",
    "# Change speech rate:\n",
    "rate = engine.getProperty('rate')\n",
    "engine.setProperty(rate, 180)"
   ]
  },
  {
   "cell_type": "markdown",
   "metadata": {},
   "source": [
    "## Not Jodi Foster, but better than before! "
   ]
  },
  {
   "cell_type": "code",
   "execution_count": 64,
   "metadata": {},
   "outputs": [],
   "source": [
    "engine.stop()\n",
    "engine.runAndWait()"
   ]
  },
  {
   "cell_type": "code",
   "execution_count": 65,
   "metadata": {},
   "outputs": [],
   "source": [
    "engine.say('I want to tell you the circumstances in which I first encountered Hannibal Lecter, M.D.')"
   ]
  }
 ],
 "metadata": {
  "kernelspec": {
   "display_name": "Python 3 (ipykernel)",
   "language": "python",
   "name": "python3"
  },
  "language_info": {
   "codemirror_mode": {
    "name": "ipython",
    "version": 3
   },
   "file_extension": ".py",
   "mimetype": "text/x-python",
   "name": "python",
   "nbconvert_exporter": "python",
   "pygments_lexer": "ipython3",
   "version": "3.7.4"
  },
  "toc": {
   "base_numbering": 1,
   "nav_menu": {},
   "number_sections": true,
   "sideBar": true,
   "skip_h1_title": false,
   "title_cell": "Table of Contents",
   "title_sidebar": "Contents",
   "toc_cell": false,
   "toc_position": {},
   "toc_section_display": true,
   "toc_window_display": false
  }
 },
 "nbformat": 4,
 "nbformat_minor": 2
}
